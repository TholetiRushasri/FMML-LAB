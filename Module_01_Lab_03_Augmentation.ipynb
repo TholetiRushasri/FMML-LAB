{
  "nbformat": 4,
  "nbformat_minor": 0,
  "metadata": {
    "colab": {
      "provenance": [],
      "include_colab_link": true
    },
    "kernelspec": {
      "name": "python3",
      "display_name": "Python 3"
    },
    "language_info": {
      "name": "python"
    }
  },
  "cells": [
    {
      "cell_type": "markdown",
      "metadata": {
        "id": "view-in-github",
        "colab_type": "text"
      },
      "source": [
        "<a href=\"https://colab.research.google.com/github/TholetiRushasri/FMML-LAB/blob/main/Module_01_Lab_03_Augmentation.ipynb\" target=\"_parent\"><img src=\"https://colab.research.google.com/assets/colab-badge.svg\" alt=\"Open In Colab\"/></a>"
      ]
    },
    {
      "cell_type": "markdown",
      "metadata": {
        "id": "w3yfry25JgZK"
      },
      "source": [
        "# Data augmentation\n",
        "\n",
        "FMML Module 1, Lab 3<br>\n",
        "\n",
        " In this lab, we will see how augmentation of data samples help in improving the machine learning performance"
      ]
    },
    {
      "cell_type": "code",
      "metadata": {
        "id": "xZU8_elooqP0"
      },
      "source": [
        "import numpy as np\n",
        "import matplotlib.pyplot as plt\n",
        "from keras.datasets import mnist\n",
        "# set randomseed\n",
        "rng = np.random.default_rng(seed=42)\n",
        "from sklearn.utils.extmath import cartesian\n",
        "from skimage.transform import rotate, AffineTransform, warp\n",
        "import math"
      ],
      "execution_count": null,
      "outputs": []
    },
    {
      "cell_type": "markdown",
      "metadata": {
        "id": "T5pHYogSMHiE"
      },
      "source": [
        "Augmentation is useful when we have less training data available. Augmentation allows us to 'create' a larger dataset programatically.\n",
        "\n",
        "For this lab we will use a subset of MNIST that is very small, to better understand the effect of augmentation."
      ]
    },
    {
      "cell_type": "code",
      "metadata": {
        "id": "gJvmWJ58ovx5",
        "colab": {
          "base_uri": "https://localhost:8080/"
        },
        "outputId": "6fd83f30-a3d2-4915-fc9b-5e512ea54d0c"
      },
      "source": [
        "#loading the dataset\n",
        "(train_X, train_y), (test_X, test_y) = mnist.load_data()\n",
        "train_X = train_X/255\n",
        "test_X = test_X/255\n",
        "\n",
        "train_X = train_X[::1200,:,:].copy() # subsample. Otherwise it will take too long!\n",
        "train_y = train_y[::1200].copy() # do the same to the labels"
      ],
      "execution_count": null,
      "outputs": [
        {
          "output_type": "stream",
          "name": "stdout",
          "text": [
            "Downloading data from https://storage.googleapis.com/tensorflow/tf-keras-datasets/mnist.npz\n",
            "11490434/11490434 [==============================] - 0s 0us/step\n"
          ]
        }
      ]
    },
    {
      "cell_type": "markdown",
      "metadata": {
        "id": "8XamH6z1Rt7S"
      },
      "source": [
        "Let us borrow a few functions from the previous labs:"
      ]
    },
    {
      "cell_type": "code",
      "metadata": {
        "id": "Zk2W5_3BRLMS"
      },
      "source": [
        "def NN1(traindata, trainlabel, query):\n",
        "  diff  = traindata - query  # find the difference between features. Numpy automatically takes care of the size here\n",
        "  sq = diff*diff # square the differences\n",
        "  dist = sq.sum(1) # add up the squares\n",
        "  label = trainlabel[np.argmin(dist)] # our predicted label is the label of the training data which has the least distance from the query\n",
        "  return label\n",
        "\n",
        "def NN(traindata, trainlabel, testdata):\n",
        "  # we will run nearest neighbour for each sample in the test data\n",
        "  # and collect the predicted classes in an array using list comprehension\n",
        "  traindata = traindata.reshape(-1, 28*28)\n",
        "  testdata = testdata.reshape(-1,28*28)\n",
        "  predlabel = np.array([NN1(traindata, trainlabel, i) for i in testdata])\n",
        "  return predlabel\n",
        "\n",
        "def Accuracy(gtlabel, predlabel):\n",
        "  assert len(gtlabel)==len(predlabel), \"Length of the groundtruth labels and predicted labels should be the same\"\n",
        "  correct = (gtlabel==predlabel).sum() # count the number of times the groundtruth label is equal to the predicted label.\n",
        "  return correct/len(gtlabel)"
      ],
      "execution_count": null,
      "outputs": []
    },
    {
      "cell_type": "markdown",
      "metadata": {
        "id": "eGiA3LmDSJZo"
      },
      "source": [
        "In this lab, we will use the image pixels themselves as features, instead of extracting features. Each image has 28*28 pixels, so we will flatten them to 784 pixels to use as features. Note that this is very compute intensive and will take a long time.<br>\n",
        "\n",
        "Let us check the baseline accuracy on the test set without any augmentations. We hope that adding augmentations will help us to get better results."
      ]
    },
    {
      "cell_type": "code",
      "metadata": {
        "id": "4tQvnoasRNEV",
        "colab": {
          "base_uri": "https://localhost:8080/"
        },
        "outputId": "7c9d3687-6f91-4875-9cc6-2cb8aae62cbe"
      },
      "source": [
        "testpred = NN(train_X, train_y, test_X)\n",
        "print('Baseline accuracy without augmentation is ', Accuracy(test_y, testpred))"
      ],
      "execution_count": null,
      "outputs": [
        {
          "output_type": "stream",
          "name": "stdout",
          "text": [
            "Baseline accuracy without augmentation is  0.6472\n"
          ]
        }
      ]
    },
    {
      "cell_type": "markdown",
      "metadata": {
        "id": "ZfkcMfhIZQ7U"
      },
      "source": [
        "Let us try to improve this accuracy using augmentations. When we create augmentations, we have to make sure that the changes reflect what will naturally occur in the dataset. For example, we should not add colour to our samples as an augmentation because they do not naturally occur. We should not also flip the images in MNIST, because flipped images have different meanings for digits.\n",
        "\n",
        "### Augmentation 1: rotation\n",
        "\n",
        "Let us try rotating the image a little. We will use skimage library for this."
      ]
    },
    {
      "cell_type": "code",
      "metadata": {
        "id": "z5WolJ9fZE7L",
        "colab": {
          "base_uri": "https://localhost:8080/",
          "height": 860
        },
        "outputId": "0ab501ef-9ef5-4c8f-a7b0-df1ffc133c69"
      },
      "source": [
        "plt.imshow(train_X[2], cmap='gray')\n",
        "plt.show()\n",
        "plt.imshow(rotate(train_X[2],25), cmap='gray')"
      ],
      "execution_count": null,
      "outputs": [
        {
          "output_type": "display_data",
          "data": {
            "text/plain": [
              "<Figure size 640x480 with 1 Axes>"
            ],
            "image/png": "[encoded data removed]"
          },
          "metadata": {}
        },
        {
          "output_type": "execute_result",
          "data": {
            "text/plain": [
              "<matplotlib.image.AxesImage at 0x78d6ed0aada0>"
            ]
          },
          "metadata": {},
          "execution_count": 6
        },
        {
          "output_type": "display_data",
          "data": {
            "text/plain": [
              "<Figure size 640x480 with 1 Axes>"
            ],
            "image/png": "[encoded data removed]"
          },
          "metadata": {}
        }
      ]
    },
    {
      "cell_type": "markdown",
      "metadata": {
        "id": "KE33Yxgggu0c"
      },
      "source": [
        "After rotating, the the class of the image is still the same. Let us make a function to rotate multiple images by random angles. We want a slightly different image every time we run this function. So, we generate a random number between 0 and 1 and change it so that it lies between -constraint/2 and +constraint/2"
      ]
    },
    {
      "cell_type": "code",
      "metadata": {
        "id": "vyM7pUV7Reze"
      },
      "source": [
        "def augRotate(sample, angleconstraint):\n",
        "  if angleconstraint==0:\n",
        "    return sample\n",
        "  if len(sample.shape)==2:\n",
        "    sample = np.expand_dims(sample, 0)  # make sure the sample is 3 dimensional\n",
        "  angle = rng.random(len(sample)) # generate random numbers for angles\n",
        "  angle = (angle-0.5)*angleconstraint # make the random angle constrained\n",
        "  nsample = sample.copy() # preallocate the augmented array to make it faster\n",
        "  for ii in range(len(sample)):\n",
        "    nsample[ii] = rotate(sample[ii], angle[ii])\n",
        "  return np.squeeze(nsample) # take care if the input had only one sample."
      ],
      "execution_count": null,
      "outputs": []
    },
    {
      "cell_type": "markdown",
      "metadata": {
        "id": "kDk-N5VNjar9"
      },
      "source": [
        "This function returns a slightly different image each time we call it. So we can increase the number of images in the sample by any multiple."
      ]
    },
    {
      "cell_type": "code",
      "metadata": {
        "id": "Vw3O9zGFgI8K",
        "colab": {
          "base_uri": "https://localhost:8080/",
          "height": 639
        },
        "outputId": "c4e1a80b-1a56-4a37-9b32-0364cb4bbd9c"
      },
      "source": [
        "sample = train_X[20]\n",
        "angleconstraint = 70\n",
        "# show the original image\n",
        "plt.imshow(sample, cmap='gray')\n",
        "plt.show()\n",
        "plt.subplot(1,3,1)\n",
        "plt.imshow(augRotate(sample, angleconstraint), cmap='gray') # show an augmented image\n",
        "plt.subplot(1,3,2)\n",
        "plt.imshow(augRotate(sample, angleconstraint), cmap='gray') # show another augmented image from the same sample\n",
        "plt.subplot(1,3,3)\n",
        "plt.imshow(augRotate(sample, angleconstraint), cmap='gray') # one more image from the same sample"
      ],
      "execution_count": null,
      "outputs": [
        {
          "output_type": "display_data",
          "data": {
            "text/plain": [
              "<Figure size 640x480 with 1 Axes>"
            ],
            "image/png": "[encoded data removed]"
          },
          "metadata": {}
        },
        {
          "output_type": "execute_result",
          "data": {
            "text/plain": [
              "<matplotlib.image.AxesImage at 0x78d6ecf28730>"
            ]
          },
          "metadata": {},
          "execution_count": 8
        },
        {
          "output_type": "display_data",
          "data": {
            "text/plain": [
              "<Figure size 640x480 with 3 Axes>"
            ],
            "image/png": "[encoded data removed]"
          },
          "metadata": {}
        }
      ]
    },
    {
      "cell_type": "markdown",
      "metadata": {
        "id": "ytv3NxF-kgxN"
      },
      "source": [
        "Let us augment the whole dataset and see if this improves the test accuracy"
      ]
    },
    {
      "cell_type": "code",
      "metadata": {
        "id": "iNzNAoDBkRzj",
        "colab": {
          "base_uri": "https://localhost:8080/"
        },
        "outputId": "38e143e6-fc95-488a-f489-257f64900f9b"
      },
      "source": [
        "# hyperparameters\n",
        "angleconstraint = 60\n",
        "naugmentations = 5\n",
        "\n",
        "# augment\n",
        "augdata = train_X # we include the original images also in the augmented dataset\n",
        "auglabel = train_y\n",
        "for ii in range(naugmentations):\n",
        "  augdata = np.concatenate((augdata, augRotate(train_X, angleconstraint))) # concatenate the augmented data to the set\n",
        "  auglabel = np.concatenate((auglabel, train_y))  # the labels don't change when we augment\n",
        "\n",
        "# check the test accuracy\n",
        "testpred = NN(augdata, auglabel, test_X)\n",
        "print('Accuracy after rotation augmentation is ', Accuracy(test_y, testpred))"
      ],
      "execution_count": null,
      "outputs": [
        {
          "output_type": "stream",
          "name": "stdout",
          "text": [
            "Accuracy after rotation augmentation is  0.6667\n"
          ]
        }
      ]
    },
    {
      "cell_type": "markdown",
      "metadata": {
        "id": "E88Nt9s1p5R6"
      },
      "source": [
        "The angle constraint is a hyperparameter which we have to tune using a validation set. (Here we are not doing that for time constraints). Let us try a grid search to find the best angle constraint."
      ]
    },
    {
      "cell_type": "code",
      "metadata": {
        "id": "aiaFRLREmGp6",
        "colab": {
          "base_uri": "https://localhost:8080/"
        },
        "outputId": "6c1b5b6a-8695-4da3-bc3c-ced701fd08f2"
      },
      "source": [
        "angleconstraints = [0,10,20,30,40,50,60,70,80,90] # the values we want to test\n",
        "accuracies = np.zeros(len(angleconstraints), dtype=np.float) # we will save the values here\n",
        "\n",
        "for ii in range(len(angleconstraints)):\n",
        "  # create the augmented dataset\n",
        "  augdata = train_X # we include the original images also in the augmented dataset\n",
        "  auglabel = train_y\n",
        "  for jj in range(naugmentations):\n",
        "    augdata = np.concatenate((augdata, augRotate(train_X, angleconstraints[ii]))) # concatenate the augmented data to the set\n",
        "    auglabel = np.concatenate((auglabel, train_y))  # the labels don't change when we augment\n",
        "\n",
        "  # check the test accuracy\n",
        "  testpred = NN(augdata, auglabel, test_X)\n",
        "  accuracies[ii] = Accuracy(test_y, testpred)\n",
        "  print('Accuracy after rotation augmentation constrained by ',angleconstraints[ii], ' is ', accuracies[ii], flush=True)"
      ],
      "execution_count": null,
      "outputs": [
        {
          "output_type": "stream",
          "name": "stderr",
          "text": [
            "<ipython-input-11-2f14d3721156>:2: DeprecationWarning: `np.float` is a deprecated alias for the builtin `float`. To silence this warning, use `float` by itself. Doing this will not modify any behavior and is safe. If you specifically wanted the numpy scalar type, use `np.float64` here.\n",
            "Deprecated in NumPy 1.20; for more details and guidance: https://numpy.org/devdocs/release/1.20.0-notes.html#deprecations\n",
            "  accuracies = np.zeros(len(angleconstraints), dtype=np.float) # we will save the values here\n"
          ]
        },
        {
          "output_type": "stream",
          "name": "stdout",
          "text": [
            "Accuracy after rotation augmentation constrained by  0  is  0.6472\n",
            "Accuracy after rotation augmentation constrained by  10  is  0.6655\n",
            "Accuracy after rotation augmentation constrained by  20  is  0.6717\n",
            "Accuracy after rotation augmentation constrained by  30  is  0.6779\n",
            "Accuracy after rotation augmentation constrained by  40  is  0.6741\n",
            "Accuracy after rotation augmentation constrained by  50  is  0.6746\n",
            "Accuracy after rotation augmentation constrained by  60  is  0.6678\n",
            "Accuracy after rotation augmentation constrained by  70  is  0.653\n",
            "Accuracy after rotation augmentation constrained by  80  is  0.6489\n",
            "Accuracy after rotation augmentation constrained by  90  is  0.6487\n"
          ]
        }
      ]
    },
    {
      "cell_type": "markdown",
      "metadata": {
        "id": "2oVDRYP2rxob"
      },
      "source": [
        "Let us see the best value for angle constraint: (Ideally this should be done on validation set, not test set)"
      ]
    },
    {
      "cell_type": "code",
      "metadata": {
        "id": "LqthJa_pmMHz",
        "colab": {
          "base_uri": "https://localhost:8080/",
          "height": 481
        },
        "outputId": "3db8e451-0a37-428b-f0c8-d8e134bd7378"
      },
      "source": [
        "fig = plt.figure()\n",
        "ax = fig.add_axes([0.1, 0.1, 0.8, 0.8]) # main axes\n",
        "# plot the variation of accuracy\n",
        "ax.plot(angleconstraints, accuracies)\n",
        "ax.set_xlabel('angle')\n",
        "ax.set_ylabel('accuracy')\n",
        "# plot the maximum accuracy\n",
        "maxind = np.argmax(accuracies)\n",
        "plt.scatter(angleconstraints[maxind], accuracies[maxind], c='red')"
      ],
      "execution_count": null,
      "outputs": [
        {
          "output_type": "execute_result",
          "data": {
            "text/plain": [
              "<matplotlib.collections.PathCollection at 0x78d6ece3ffd0>"
            ]
          },
          "metadata": {},
          "execution_count": 12
        },
        {
          "output_type": "display_data",
          "data": {
            "text/plain": [
              "<Figure size 640x480 with 1 Axes>"
            ],
            "image/png": "[encoded data removed]"
          },
          "metadata": {}
        }
      ]
    },
    {
      "cell_type": "markdown",
      "metadata": {
        "id": "eJ8YuVfCuGTj"
      },
      "source": [
        "Let us try one more augmentation: shear. Here is what this looks like:"
      ]
    },
    {
      "cell_type": "code",
      "metadata": {
        "id": "pMiw46NLwssK"
      },
      "source": [
        "def shear(sample, amount):\n",
        "  tform = AffineTransform(shear = amount) # create the shear transform\n",
        "  img = warp(sample, tform) # apply the shear\n",
        "  # this makes the digit off-center. Since all the images in the test set are centralized, we will do the same here\n",
        "  col = img.sum(0).nonzero()[0]\n",
        "  row = img.sum(1).nonzero()[0]\n",
        "  if len(col)>0 and len(row)>0:\n",
        "    xshift = int(sample.shape[0]/2 - (row[0]+row[-1])/2)\n",
        "    yshift = int(sample.shape[1]/2 - (col[0]+col[-1])/2)\n",
        "    img = np.roll(img, (xshift, yshift),(0,1))\n",
        "  return img"
      ],
      "execution_count": null,
      "outputs": []
    },
    {
      "cell_type": "code",
      "metadata": {
        "id": "4_u_EYpmnABK",
        "colab": {
          "base_uri": "https://localhost:8080/",
          "height": 860
        },
        "outputId": "7ca24b9e-fccb-4e2e-8278-ad30afb4f0da"
      },
      "source": [
        "sample = train_X[2]\n",
        "plt.imshow(sample, cmap='gray')\n",
        "plt.show()\n",
        "\n",
        "# apply shear\n",
        "plt.imshow(shear(sample, 0.4), cmap='gray')"
      ],
      "execution_count": null,
      "outputs": [
        {
          "output_type": "display_data",
          "data": {
            "text/plain": [
              "<Figure size 640x480 with 1 Axes>"
            ],
            "image/png": "[encoded data removed]"
          },
          "metadata": {}
        },
        {
          "output_type": "execute_result",
          "data": {
            "text/plain": [
              "<matplotlib.image.AxesImage at 0x78d6ecd383d0>"
            ]
          },
          "metadata": {},
          "execution_count": 14
        },
        {
          "output_type": "display_data",
          "data": {
            "text/plain": [
              "<Figure size 640x480 with 1 Axes>"
            ],
            "image/png": "[encoded data removed]"
          },
          "metadata": {}
        }
      ]
    },
    {
      "cell_type": "markdown",
      "metadata": {
        "id": "lGnWMoyM2pK4"
      },
      "source": [
        "Create an augmentation function which applies a random shear according to the constraint we provide:"
      ]
    },
    {
      "cell_type": "code",
      "metadata": {
        "id": "-qLDJyGytwP5"
      },
      "source": [
        "def augShear(sample, shearconstraint):\n",
        "  if shearconstraint==0:\n",
        "    return sample\n",
        "  if len(sample.shape)==2:\n",
        "    sample = np.expand_dims(sample, 0)  # make sure the sample is 3 dimensional\n",
        "  amt = rng.random(len(sample)) # generate random numbers for shear\n",
        "  amt = (amt-0.5)*shearconstraint # make the random shear constrained\n",
        "  nsample = sample.copy() # preallocate the augmented array to make it faster\n",
        "  for ii in range(len(sample)):\n",
        "    nsample[ii] = shear(sample[ii], amt[ii])\n",
        "  return np.squeeze(nsample) # take care if the input had only one sample."
      ],
      "execution_count": null,
      "outputs": []
    },
    {
      "cell_type": "markdown",
      "metadata": {
        "id": "s6lQcWW93suJ"
      },
      "source": [
        "Let us do a grid search to find the best shear constraint."
      ]
    },
    {
      "cell_type": "code",
      "metadata": {
        "id": "l_wrqPkrzBb_",
        "colab": {
          "base_uri": "https://localhost:8080/"
        },
        "outputId": "d6d09b09-3081-4514-a686-476a4188442c"
      },
      "source": [
        "shearconstraints = [0, 0.2,0.4,0.6,0.8,1.0,1.2,1.4,1.6,1.8,2.0] # the values we want to test\n",
        "accuracies = np.zeros(len(shearconstraints), dtype=np.float) # we will save the values here\n",
        "\n",
        "for ii in range(len(shearconstraints)):\n",
        "  # create the augmented dataset\n",
        "  augdata = train_X # we include the original images also in the augmented dataset\n",
        "  auglabel = train_y\n",
        "  for jj in range(naugmentations):\n",
        "    augdata = np.concatenate((augdata, augShear(train_X, shearconstraints[ii]))) # concatenate the augmented data to the set\n",
        "    auglabel = np.concatenate((auglabel, train_y))  # the labels don't change when we augment\n",
        "\n",
        "  # check the test accuracy\n",
        "  testpred = NN(augdata, auglabel, test_X)\n",
        "  accuracies[ii] = Accuracy(test_y, testpred)\n",
        "  print('Accuracy after shear augmentation constrained by ',shearconstraints[ii], ' is ', accuracies[ii], flush=True)"
      ],
      "execution_count": null,
      "outputs": [
        {
          "output_type": "stream",
          "name": "stderr",
          "text": [
            "<ipython-input-16-8a89fef4983d>:2: DeprecationWarning: `np.float` is a deprecated alias for the builtin `float`. To silence this warning, use `float` by itself. Doing this will not modify any behavior and is safe. If you specifically wanted the numpy scalar type, use `np.float64` here.\n",
            "Deprecated in NumPy 1.20; for more details and guidance: https://numpy.org/devdocs/release/1.20.0-notes.html#deprecations\n",
            "  accuracies = np.zeros(len(shearconstraints), dtype=np.float) # we will save the values here\n"
          ]
        },
        {
          "output_type": "stream",
          "name": "stdout",
          "text": [
            "Accuracy after shear augmentation constrained by  0  is  0.6472\n",
            "Accuracy after shear augmentation constrained by  0.2  is  0.6178\n",
            "Accuracy after shear augmentation constrained by  0.4  is  0.6221\n",
            "Accuracy after shear augmentation constrained by  0.6  is  0.647\n",
            "Accuracy after shear augmentation constrained by  0.8  is  0.6553\n",
            "Accuracy after shear augmentation constrained by  1.0  is  0.6498\n",
            "Accuracy after shear augmentation constrained by  1.2  is  0.6345\n",
            "Accuracy after shear augmentation constrained by  1.4  is  0.6398\n",
            "Accuracy after shear augmentation constrained by  1.6  is  0.6499\n",
            "Accuracy after shear augmentation constrained by  1.8  is  0.6319\n",
            "Accuracy after shear augmentation constrained by  2.0  is  0.628\n"
          ]
        }
      ]
    },
    {
      "cell_type": "code",
      "source": [
        "arr1 = np.zeros((5, 0))\n",
        "arr1[[20]]\n",
        "arr2 = np.zeros((5, 5))\n",
        "arr2[[20], :0]"
      ],
      "metadata": {
        "id": "yDGZbyS1DBIp",
        "outputId": "88bc236f-8368-45d1-b288-013e162c0488",
        "colab": {
          "base_uri": "https://localhost:8080/"
        }
      },
      "execution_count": null,
      "outputs": [
        {
          "output_type": "stream",
          "name": "stderr",
          "text": [
            "<ipython-input-17-fcb2d82744bc>:2: DeprecationWarning: Out of bound index found. This was previously ignored when the indexing result contained no elements. In the future the index error will be raised. This error occurs either due to an empty slice, or if an array has zero elements even before indexing.\n",
            "(Use `warnings.simplefilter('error')` to turn this DeprecationWarning into an error and get more details on the invalid index.)\n",
            "  arr1[[20]]\n",
            "<ipython-input-17-fcb2d82744bc>:4: DeprecationWarning: Out of bound index found. This was previously ignored when the indexing result contained no elements. In the future the index error will be raised. This error occurs either due to an empty slice, or if an array has zero elements even before indexing.\n",
            "(Use `warnings.simplefilter('error')` to turn this DeprecationWarning into an error and get more details on the invalid index.)\n",
            "  arr2[[20], :0]\n"
          ]
        },
        {
          "output_type": "execute_result",
          "data": {
            "text/plain": [
              "array([], shape=(1, 0), dtype=float64)"
            ]
          },
          "metadata": {},
          "execution_count": 17
        }
      ]
    },
    {
      "cell_type": "code",
      "source": [
        "import numpy as np\n",
        "arr = np.array([[3, 6, 6], [4, 5, 1]])\n",
        "# mode: inexact match\n",
        "np.ravel_multi_index(arr, (7, 6), mode=\"clap\")  # should be \"clip\"\n",
        "# searchside: inexact match\n",
        "np.searchsorted(arr[0], 4, side='random')  # should be \"right\""
      ],
      "metadata": {
        "id": "j0aSbNcPDIks",
        "outputId": "1d2bf10b-b7d9-44dc-c7e9-b90741b4d60f",
        "colab": {
          "base_uri": "https://localhost:8080/"
        }
      },
      "execution_count": null,
      "outputs": [
        {
          "output_type": "execute_result",
          "data": {
            "text/plain": [
              "1"
            ]
          },
          "metadata": {},
          "execution_count": 18
        }
      ]
    },
    {
      "cell_type": "code",
      "metadata": {
        "id": "EKaH-YR-zVnA",
        "colab": {
          "base_uri": "https://localhost:8080/",
          "height": 481
        },
        "outputId": "cf6863ad-cad0-4995-bfa3-ad4a69138de9"
      },
      "source": [
        "fig = plt.figure()\n",
        "ax = fig.add_axes([0.1, 0.1, 0.8, 0.8]) # main axes\n",
        "# plot the variation of accuracy\n",
        "ax.plot(shearconstraints, accuracies)\n",
        "ax.set_xlabel('angle')\n",
        "ax.set_ylabel('accuracy')\n",
        "# plot the maximum accuracy\n",
        "maxind = np.argmax(accuracies)\n",
        "plt.scatter(shearconstraints[maxind], accuracies[maxind], c='red')"
      ],
      "execution_count": null,
      "outputs": [
        {
          "output_type": "execute_result",
          "data": {
            "text/plain": [
              "<matplotlib.collections.PathCollection at 0x78d6eccceb90>"
            ]
          },
          "metadata": {},
          "execution_count": 20
        },
        {
          "output_type": "display_data",
          "data": {
            "text/plain": [
              "<Figure size 640x480 with 1 Axes>"
            ],
            "image/png": "[encoded data removed]"
          },
          "metadata": {}
        }
      ]
    },
    {
      "cell_type": "markdown",
      "metadata": {
        "id": "ccfdbRcQ7Zgg"
      },
      "source": [
        "We can do multiple augmentations at the same time. Here is a function to do both shear and rotation to the sample. In this case, we will have two hyperparameters."
      ]
    },
    {
      "cell_type": "code",
      "metadata": {
        "id": "sh8S_Pxa0XCv"
      },
      "source": [
        "def augRotateShear(sample, angleconstraint, shearconstraint):\n",
        "  if len(sample.shape)==2:\n",
        "    sample = np.expand_dims(sample, 0)  # make sure the sample is 3 dimensional\n",
        "  amt = rng.random(len(sample)) # generate random numbers for shear\n",
        "  amt = (amt-0.5)*shearconstraint # make the random shear constrained\n",
        "  angle = rng.random(len(sample)) # generate random numbers for angles\n",
        "  angle = (angle-0.5)*angleconstraint # make the random angle constrained\n",
        "  nsample = sample.copy() # preallocate the augmented array to make it faster\n",
        "  for ii in range(len(sample)):\n",
        "    nsample[ii] = rotate(shear(sample[ii], amt[ii]), angle[ii]) # first apply shear, then rotate\n",
        "  return np.squeeze(nsample) # take care if the input had only one sample."
      ],
      "execution_count": null,
      "outputs": []
    },
    {
      "cell_type": "markdown",
      "metadata": {
        "id": "OGKyjjNx-NQ4"
      },
      "source": [
        "Since we have two hyperparameters, we have to do the grid search on a 2 dimensional matrix. We can use our previous experience to inform where to search for the best hyperparameters."
      ]
    },
    {
      "cell_type": "code",
      "metadata": {
        "id": "TJC45WRg0pOP",
        "colab": {
          "base_uri": "https://localhost:8080/"
        },
        "outputId": "ae704838-2ab5-4714-a6c8-f230bdda2ea3"
      },
      "source": [
        "shearconstraints = [0, 0.2,0.4,0.6,0.8,1.0,1.2,1.4,1.6] # the values we want to test\n",
        "angleconstraints = [0,10,20,30,40,50,60] # the values we want to test\n",
        "hyp = cartesian((shearconstraints, angleconstraints)) # cartesian product of both\n",
        "\n",
        "accuracies = np.zeros(len(hyp), dtype=np.float) # we will save the values here\n",
        "\n",
        "for ii in range(len(hyp)):\n",
        "  # create the augmented dataset\n",
        "  augdata = train_X # we include the original images also in the augmented dataset\n",
        "  auglabel = train_y\n",
        "  for jj in range(naugmentations):\n",
        "    augdata = np.concatenate((augdata, augRotateShear(train_X, hyp[ii][0], hyp[ii][1]))) # concatenate the augmented data to the set\n",
        "    auglabel = np.concatenate((auglabel, train_y))  # the labels don't change when we augment\n",
        "\n",
        "  # check the test accuracy\n",
        "  testpred = NN(augdata, auglabel, test_X)\n",
        "  accuracies[ii] = Accuracy(test_y, testpred)\n",
        "  print('Accuracy after augmentation shear:',hyp[ii][0], 'angle:',hyp[ii][1], ' is ', accuracies[ii], flush=True)"
      ],
      "execution_count": null,
      "outputs": [
        {
          "output_type": "stream",
          "name": "stderr",
          "text": [
            "<ipython-input-27-09de780976d0>:5: DeprecationWarning: `np.float` is a deprecated alias for the builtin `float`. To silence this warning, use `float` by itself. Doing this will not modify any behavior and is safe. If you specifically wanted the numpy scalar type, use `np.float64` here.\n",
            "Deprecated in NumPy 1.20; for more details and guidance: https://numpy.org/devdocs/release/1.20.0-notes.html#deprecations\n",
            "  accuracies = np.zeros(len(hyp), dtype=np.float) # we will save the values here\n"
          ]
        },
        {
          "output_type": "stream",
          "name": "stdout",
          "text": [
            "Accuracy after augmentation shear: 0.0 angle: 0.0  is  0.6332\n",
            "Accuracy after augmentation shear: 0.0 angle: 10.0  is  0.6243\n",
            "Accuracy after augmentation shear: 0.0 angle: 20.0  is  0.5935\n",
            "Accuracy after augmentation shear: 0.0 angle: 30.0  is  0.5982\n",
            "Accuracy after augmentation shear: 0.0 angle: 40.0  is  0.6001\n",
            "Accuracy after augmentation shear: 0.0 angle: 50.0  is  0.5983\n",
            "Accuracy after augmentation shear: 0.0 angle: 60.0  is  0.6116\n",
            "Accuracy after augmentation shear: 0.2 angle: 0.0  is  0.6341\n",
            "Accuracy after augmentation shear: 0.2 angle: 10.0  is  0.592\n",
            "Accuracy after augmentation shear: 0.2 angle: 20.0  is  0.6022\n",
            "Accuracy after augmentation shear: 0.2 angle: 30.0  is  0.5814\n",
            "Accuracy after augmentation shear: 0.2 angle: 40.0  is  0.599\n",
            "Accuracy after augmentation shear: 0.2 angle: 50.0  is  0.61\n",
            "Accuracy after augmentation shear: 0.2 angle: 60.0  is  0.5876\n",
            "Accuracy after augmentation shear: 0.4 angle: 0.0  is  0.6339\n",
            "Accuracy after augmentation shear: 0.4 angle: 10.0  is  0.5971\n",
            "Accuracy after augmentation shear: 0.4 angle: 20.0  is  0.6336\n",
            "Accuracy after augmentation shear: 0.4 angle: 30.0  is  0.6159\n",
            "Accuracy after augmentation shear: 0.4 angle: 40.0  is  0.6058\n",
            "Accuracy after augmentation shear: 0.4 angle: 50.0  is  0.6061\n",
            "Accuracy after augmentation shear: 0.4 angle: 60.0  is  0.5924\n",
            "Accuracy after augmentation shear: 0.6 angle: 0.0  is  0.6337\n",
            "Accuracy after augmentation shear: 0.6 angle: 10.0  is  0.6153\n",
            "Accuracy after augmentation shear: 0.6 angle: 20.0  is  0.5613\n",
            "Accuracy after augmentation shear: 0.6 angle: 30.0  is  0.5635\n",
            "Accuracy after augmentation shear: 0.6 angle: 40.0  is  0.5863\n",
            "Accuracy after augmentation shear: 0.6 angle: 50.0  is  0.5989\n",
            "Accuracy after augmentation shear: 0.6 angle: 60.0  is  0.6035\n",
            "Accuracy after augmentation shear: 0.8 angle: 0.0  is  0.6345\n",
            "Accuracy after augmentation shear: 0.8 angle: 10.0  is  0.6091\n",
            "Accuracy after augmentation shear: 0.8 angle: 20.0  is  0.598\n",
            "Accuracy after augmentation shear: 0.8 angle: 30.0  is  0.6052\n",
            "Accuracy after augmentation shear: 0.8 angle: 40.0  is  0.607\n",
            "Accuracy after augmentation shear: 0.8 angle: 50.0  is  0.613\n",
            "Accuracy after augmentation shear: 0.8 angle: 60.0  is  0.6093\n",
            "Accuracy after augmentation shear: 1.0 angle: 0.0  is  0.6328\n",
            "Accuracy after augmentation shear: 1.0 angle: 10.0  is  0.5786\n",
            "Accuracy after augmentation shear: 1.0 angle: 20.0  is  0.612\n",
            "Accuracy after augmentation shear: 1.0 angle: 30.0  is  0.599\n",
            "Accuracy after augmentation shear: 1.0 angle: 40.0  is  0.5936\n",
            "Accuracy after augmentation shear: 1.0 angle: 50.0  is  0.5734\n",
            "Accuracy after augmentation shear: 1.0 angle: 60.0  is  0.6054\n",
            "Accuracy after augmentation shear: 1.2 angle: 0.0  is  0.6343\n",
            "Accuracy after augmentation shear: 1.2 angle: 10.0  is  0.612\n",
            "Accuracy after augmentation shear: 1.2 angle: 20.0  is  0.6045\n",
            "Accuracy after augmentation shear: 1.2 angle: 30.0  is  0.6149\n",
            "Accuracy after augmentation shear: 1.2 angle: 40.0  is  0.5832\n",
            "Accuracy after augmentation shear: 1.2 angle: 50.0  is  0.6061\n",
            "Accuracy after augmentation shear: 1.2 angle: 60.0  is  0.5986\n",
            "Accuracy after augmentation shear: 1.4 angle: 0.0  is  0.634\n",
            "Accuracy after augmentation shear: 1.4 angle: 10.0  is  0.6157\n",
            "Accuracy after augmentation shear: 1.4 angle: 20.0  is  0.6017\n",
            "Accuracy after augmentation shear: 1.4 angle: 30.0  is  0.6043\n",
            "Accuracy after augmentation shear: 1.4 angle: 40.0  is  0.5972\n",
            "Accuracy after augmentation shear: 1.4 angle: 50.0  is  0.569\n",
            "Accuracy after augmentation shear: 1.4 angle: 60.0  is  0.5881\n",
            "Accuracy after augmentation shear: 1.6 angle: 0.0  is  0.6342\n",
            "Accuracy after augmentation shear: 1.6 angle: 10.0  is  0.6106\n",
            "Accuracy after augmentation shear: 1.6 angle: 20.0  is  0.5885\n",
            "Accuracy after augmentation shear: 1.6 angle: 30.0  is  0.5826\n",
            "Accuracy after augmentation shear: 1.6 angle: 40.0  is  0.5905\n",
            "Accuracy after augmentation shear: 1.6 angle: 50.0  is  0.6175\n",
            "Accuracy after augmentation shear: 1.6 angle: 60.0  is  0.6106\n"
          ]
        }
      ]
    },
    {
      "cell_type": "markdown",
      "metadata": {
        "id": "PT6CnvSDEX7a"
      },
      "source": [
        "Let us plot it two dimensionally to see which is the best value for the hyperparameters:"
      ]
    },
    {
      "cell_type": "code",
      "metadata": {
        "id": "jD2i7msI_cLd",
        "colab": {
          "base_uri": "https://localhost:8080/",
          "height": 481
        },
        "outputId": "e069f835-9c0c-44dd-fae7-c387ea3bc657"
      },
      "source": [
        "fig = plt.figure()\n",
        "ax = fig.add_axes([0.1, 0.1, 0.8, 0.8]) # main axes\n",
        "im = ax.imshow(accuracies.reshape((len(shearconstraints), len(angleconstraints))), cmap='inferno')\n",
        "ax.set_xlabel('angle')\n",
        "ax.set_ylabel('shear')\n",
        "ax.set_xticks(np.arange(len(angleconstraints)));\n",
        "ax.set_xticklabels(angleconstraints);\n",
        "ax.set_yticks(np.arange(len(shearconstraints)));\n",
        "ax.set_yticklabels(shearconstraints);\n",
        "plt.colorbar(im)"
      ],
      "execution_count": null,
      "outputs": [
        {
          "output_type": "execute_result",
          "data": {
            "text/plain": [
              "<matplotlib.colorbar.Colorbar at 0x78d6ecbd91e0>"
            ]
          },
          "metadata": {},
          "execution_count": 25
        },
        {
          "output_type": "display_data",
          "data": {
            "text/plain": [
              "<Figure size 640x480 with 2 Axes>"
            ],
            "image/png": "[encoded data removed]"
          },
          "metadata": {}
        }
      ]
    },
    {
      "cell_type": "markdown",
      "metadata": {
        "id": "OHcZWJiFJDMh"
      },
      "source": [
        "It seems that rotation and shear don't mix! The best accuracy is when rotation is zero."
      ]
    },
    {
      "cell_type": "markdown",
      "metadata": {
        "id": "PAasQo1C3x4A"
      },
      "source": [
        "## Questions\n",
        "Try these questions for better understanding. You may not be able to solve all of them.\n",
        "1. What is the best value for angle constraint and shear constraint you got? How much did the accuracy improve as compared to not using augmentations?\n",
        "2. Can you increase the accuracy by increasing the number of augmentations from each sample?\n",
        "3. Try implementing a few augmentations of your own and experimenting with them. A good reference is <a href=https://www.analyticsvidhya.com/blog/2019/12/image-augmentation-deep-learning-pytorch/>here. </a>\n",
        "4. Try combining various augmentations. What is the highest accuracy you can get? What is the smallest training dataset you can take and still get accuracy above 50%?\n",
        "\n",
        "Whenever you do any experiment, a good practice is to vary the hyperparameters gradually and create a graph of your results, like we did for gridsearch."
      ]
    },
    {
      "cell_type": "markdown",
      "source": [
        "#1.ANSWER\n",
        "\n",
        "The best value for angle constraint and shear constraint i got is 1. This can be done through techniques like grid search or random search, and the best values will be those that result in the highest test accuracy or performance on your specific task.\n",
        "\n",
        "The improvement in accuracy when using data augmentations compared to not using augmentations can vary widely depending on several factors, including the nature of your dataset, the complexity of your model, and the specific augmentation techniques applied. The general goal of data augmentation is to enhance a model's ability to generalize to new, unseen data and improve its robustness.Data augmentations are a valuable tool for improving model performance, but the extent of improvement is task-specific and requires empirical evaluation.\n",
        "\n"
      ],
      "metadata": {
        "id": "5CVlg9ZMHqWc"
      }
    },
    {
      "cell_type": "markdown",
      "source": [
        "#2.ANSWER\n",
        "\n",
        "Increasing the number of augmentations from each sample in your training dataset can potentially help improve model accuracy, but it's essential to strike a balance, as there are trade-offs to consider.\n",
        "### Hyperparameter Tuning:\n",
        " The number of augmentations per sample is a hyperparameter that should be tuned. You can experiment with different values to find the sweet spot that works best for your specific task and dataset. It's a part of the overall hyperparameter optimization process.\n",
        "\n",
        "### Data Quality:\n",
        " The effectiveness of augmentations also depends on the quality of your dataset and the nature of your task. In some cases, increasing the number of augmentations may not be as beneficial if your original dataset is already diverse.\n",
        "\n",
        " Advantages of Increasing Augmentations and Trade-Offs and Considerations evaluate the impact on model performance to find the optimal balance that works for the task."
      ],
      "metadata": {
        "id": "3g4UqPPNIqQL"
      }
    },
    {
      "cell_type": "markdown",
      "source": [
        "#3.ANSWER\n",
        "\n",
        "\n",
        "\n",
        "Experiment with different angles, noise levels, or other transformations to see how they affect your model's performance. Remember to balance augmentation with a sufficient amount of original data in your training dataset and to conduct cross-validation to evaluate the impact of your augmentations."
      ],
      "metadata": {
        "id": "kBqdgqEhKNJD"
      }
    },
    {
      "cell_type": "code",
      "source": [
        "# importing the libraries\n",
        "from torchsummary import summary\n",
        "import pandas as pd\n",
        "import numpy as np\n",
        "from skimage.io import imread, imsave\n",
        "from tqdm import tqdm\n",
        "import matplotlib.pyplot as plt\n",
        "%matplotlib inline\n",
        "\n",
        "from sklearn.model_selection import train_test_split\n",
        "from sklearn.metrics import accuracy_score\n",
        "\n",
        "from skimage.transform import rotate\n",
        "from skimage.util import random_noise\n",
        "from skimage.filters import gaussian\n",
        "from scipy import ndimage"
      ],
      "metadata": {
        "id": "zzqZa7zZKqE4"
      },
      "execution_count": null,
      "outputs": []
    },
    {
      "cell_type": "markdown",
      "source": [
        "#4.ANSWER\n",
        "\n",
        "Achieving the highest accuracy with combined augmentations and determining the smallest training dataset that still yields an accuracy above 50% depends on many factors, including the specific dataset, model architecture, and the nature of the task. It would require conducting experiments with your data to find the optimal combination of augmentations and dataset size."
      ],
      "metadata": {
        "id": "mMIH2_E9MCmB"
      }
    },
    {
      "cell_type": "code",
      "source": [
        "import numpy as np\n",
        "from sklearn.model_selection import train_test_split\n",
        "from sklearn.linear_model import LogisticRegression\n",
        "from sklearn.metrics import accuracy_score\n",
        "from sklearn.datasets import make_classification\n",
        "import random\n",
        "\n",
        "# Generate a synthetic dataset\n",
        "X, y = make_classification(n_samples=1000, n_features=20, n_informative=10, random_state=42)\n",
        "\n",
        "# Split the dataset into train and test sets\n",
        "X_train, X_test, y_train, y_test = train_test_split(X, y, test_size=0.2, random_state=42)\n",
        "\n",
        "# Define a function for data augmentation\n",
        "def augment_data(X, y, num_augmentations=2):\n",
        "    augmented_X, augmented_y = X.copy(), y.copy()\n",
        "    for _ in range(num_augmentations):\n",
        "        for i in range(X.shape[0]):\n",
        "            # Randomly choose augmentation techniques, e.g., flipping and adding noise\n",
        "            if random.choice([True, False]):\n",
        "                augmented_X = np.vstack([augmented_X, np.flip(X[i], axis=0)])\n",
        "                augmented_y = np.append(augmented_y, y[i])\n",
        "            if random.choice([True, False]):\n",
        "                noise = np.random.normal(0, 0.1, size=X[i].shape)\n",
        "                augmented_X = np.vstack([augmented_X, X[i] + noise])\n",
        "                augmented_y = np.append(augmented_y, y[i])\n",
        "    return augmented_X, augmented_y\n",
        "\n",
        "# Augment the training data\n",
        "X_train_augmented, y_train_augmented = augment_data(X_train, y_train, num_augmentations=3)\n",
        "\n",
        "# Train a logistic regression model\n",
        "model = LogisticRegression()\n",
        "model.fit(X_train_augmented, y_train_augmented)\n",
        "\n",
        "# Evaluate the model on the test set\n",
        "y_pred = model.predict(X_test)\n",
        "accuracy = accuracy_score(y_test, y_pred)\n",
        "print(f\"Accuracy on the test set: {accuracy:.2f}\")\n"
      ],
      "metadata": {
        "id": "as8DDmBMMXFy",
        "outputId": "1b362d4e-99c1-4c62-84e6-39e93c22552e",
        "colab": {
          "base_uri": "https://localhost:8080/"
        }
      },
      "execution_count": null,
      "outputs": [
        {
          "output_type": "stream",
          "name": "stdout",
          "text": [
            "Accuracy on the test set: 0.72\n"
          ]
        }
      ]
    }
  ]
}